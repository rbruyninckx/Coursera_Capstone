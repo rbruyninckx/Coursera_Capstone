{
    "cells": [
        {
            "cell_type": "markdown",
            "metadata": {
                "collapsed": true
            },
            "source": "# Introduction / Business Problem\n\nSeattle, Washington, has a notorious reputation as being a wet and rainy city. As Seattle experiences an average of 152 rainy days a year(1) -- more than most North American cities -- we want to see if there is a correlation between weather and car accidents on Seattle streets. Using extensive accident data gathered from the Seattle Department of Transportation, we will predict the severity of such accidents under various weather conditions and make a determination if such factors as weather, time of day, and road condition, have an effect on the frequency of car accidents, as well as the severity of them."
        },
        {
            "cell_type": "markdown",
            "metadata": {},
            "source": "# Data\n\nWe will be using a data set published by the Seattle Department of Transportation (SDOT) titled \"Collisions - All Years\" that contains 194,673 collisions that occurred between January 1, 2004, and May 20, 2020. The collisions were provided by the Seattle Police Department and recorded by the SDOT's Traffic Records group. A sample of the data is below:"
        },
        {
            "cell_type": "code",
            "execution_count": 1,
            "metadata": {},
            "outputs": [],
            "source": "import pandas as pd\nimport numpy as np"
        },
        {
            "cell_type": "code",
            "execution_count": 6,
            "metadata": {},
            "outputs": [
                {
                    "name": "stderr",
                    "output_type": "stream",
                    "text": "/opt/conda/envs/Python36/lib/python3.6/site-packages/IPython/core/interactiveshell.py:3020: DtypeWarning: Columns (33) have mixed types. Specify dtype option on import or set low_memory=False.\n  interactivity=interactivity, compiler=compiler, result=result)\n"
                },
                {
                    "data": {
                        "text/html": "<div>\n<style scoped>\n    .dataframe tbody tr th:only-of-type {\n        vertical-align: middle;\n    }\n\n    .dataframe tbody tr th {\n        vertical-align: top;\n    }\n\n    .dataframe thead th {\n        text-align: right;\n    }\n</style>\n<table border=\"1\" class=\"dataframe\">\n  <thead>\n    <tr style=\"text-align: right;\">\n      <th></th>\n      <th>SEVERITYCODE</th>\n      <th>X</th>\n      <th>Y</th>\n      <th>OBJECTID</th>\n      <th>INCKEY</th>\n      <th>COLDETKEY</th>\n      <th>REPORTNO</th>\n      <th>STATUS</th>\n      <th>ADDRTYPE</th>\n      <th>INTKEY</th>\n      <th>...</th>\n      <th>ROADCOND</th>\n      <th>LIGHTCOND</th>\n      <th>PEDROWNOTGRNT</th>\n      <th>SDOTCOLNUM</th>\n      <th>SPEEDING</th>\n      <th>ST_COLCODE</th>\n      <th>ST_COLDESC</th>\n      <th>SEGLANEKEY</th>\n      <th>CROSSWALKKEY</th>\n      <th>HITPARKEDCAR</th>\n    </tr>\n  </thead>\n  <tbody>\n    <tr>\n      <th>0</th>\n      <td>2</td>\n      <td>-122.323148</td>\n      <td>47.703140</td>\n      <td>1</td>\n      <td>1307</td>\n      <td>1307</td>\n      <td>3502005</td>\n      <td>Matched</td>\n      <td>Intersection</td>\n      <td>37475.0</td>\n      <td>...</td>\n      <td>Wet</td>\n      <td>Daylight</td>\n      <td>NaN</td>\n      <td>NaN</td>\n      <td>NaN</td>\n      <td>10</td>\n      <td>Entering at angle</td>\n      <td>0</td>\n      <td>0</td>\n      <td>N</td>\n    </tr>\n    <tr>\n      <th>1</th>\n      <td>1</td>\n      <td>-122.347294</td>\n      <td>47.647172</td>\n      <td>2</td>\n      <td>52200</td>\n      <td>52200</td>\n      <td>2607959</td>\n      <td>Matched</td>\n      <td>Block</td>\n      <td>NaN</td>\n      <td>...</td>\n      <td>Wet</td>\n      <td>Dark - Street Lights On</td>\n      <td>NaN</td>\n      <td>6354039.0</td>\n      <td>NaN</td>\n      <td>11</td>\n      <td>From same direction - both going straight - bo...</td>\n      <td>0</td>\n      <td>0</td>\n      <td>N</td>\n    </tr>\n    <tr>\n      <th>2</th>\n      <td>1</td>\n      <td>-122.334540</td>\n      <td>47.607871</td>\n      <td>3</td>\n      <td>26700</td>\n      <td>26700</td>\n      <td>1482393</td>\n      <td>Matched</td>\n      <td>Block</td>\n      <td>NaN</td>\n      <td>...</td>\n      <td>Dry</td>\n      <td>Daylight</td>\n      <td>NaN</td>\n      <td>4323031.0</td>\n      <td>NaN</td>\n      <td>32</td>\n      <td>One parked--one moving</td>\n      <td>0</td>\n      <td>0</td>\n      <td>N</td>\n    </tr>\n    <tr>\n      <th>3</th>\n      <td>1</td>\n      <td>-122.334803</td>\n      <td>47.604803</td>\n      <td>4</td>\n      <td>1144</td>\n      <td>1144</td>\n      <td>3503937</td>\n      <td>Matched</td>\n      <td>Block</td>\n      <td>NaN</td>\n      <td>...</td>\n      <td>Dry</td>\n      <td>Daylight</td>\n      <td>NaN</td>\n      <td>NaN</td>\n      <td>NaN</td>\n      <td>23</td>\n      <td>From same direction - all others</td>\n      <td>0</td>\n      <td>0</td>\n      <td>N</td>\n    </tr>\n    <tr>\n      <th>4</th>\n      <td>2</td>\n      <td>-122.306426</td>\n      <td>47.545739</td>\n      <td>5</td>\n      <td>17700</td>\n      <td>17700</td>\n      <td>1807429</td>\n      <td>Matched</td>\n      <td>Intersection</td>\n      <td>34387.0</td>\n      <td>...</td>\n      <td>Wet</td>\n      <td>Daylight</td>\n      <td>NaN</td>\n      <td>4028032.0</td>\n      <td>NaN</td>\n      <td>10</td>\n      <td>Entering at angle</td>\n      <td>0</td>\n      <td>0</td>\n      <td>N</td>\n    </tr>\n  </tbody>\n</table>\n<p>5 rows \u00d7 38 columns</p>\n</div>",
                        "text/plain": "   SEVERITYCODE           X          Y  OBJECTID  INCKEY  COLDETKEY REPORTNO  \\\n0             2 -122.323148  47.703140         1    1307       1307  3502005   \n1             1 -122.347294  47.647172         2   52200      52200  2607959   \n2             1 -122.334540  47.607871         3   26700      26700  1482393   \n3             1 -122.334803  47.604803         4    1144       1144  3503937   \n4             2 -122.306426  47.545739         5   17700      17700  1807429   \n\n    STATUS      ADDRTYPE   INTKEY  ... ROADCOND                LIGHTCOND  \\\n0  Matched  Intersection  37475.0  ...      Wet                 Daylight   \n1  Matched         Block      NaN  ...      Wet  Dark - Street Lights On   \n2  Matched         Block      NaN  ...      Dry                 Daylight   \n3  Matched         Block      NaN  ...      Dry                 Daylight   \n4  Matched  Intersection  34387.0  ...      Wet                 Daylight   \n\n  PEDROWNOTGRNT  SDOTCOLNUM SPEEDING ST_COLCODE  \\\n0           NaN         NaN      NaN         10   \n1           NaN   6354039.0      NaN         11   \n2           NaN   4323031.0      NaN         32   \n3           NaN         NaN      NaN         23   \n4           NaN   4028032.0      NaN         10   \n\n                                          ST_COLDESC  SEGLANEKEY  \\\n0                                  Entering at angle           0   \n1  From same direction - both going straight - bo...           0   \n2                             One parked--one moving           0   \n3                   From same direction - all others           0   \n4                                  Entering at angle           0   \n\n   CROSSWALKKEY  HITPARKEDCAR  \n0             0             N  \n1             0             N  \n2             0             N  \n3             0             N  \n4             0             N  \n\n[5 rows x 38 columns]"
                    },
                    "execution_count": 6,
                    "metadata": {},
                    "output_type": "execute_result"
                }
            ],
            "source": "# The code was removed by Watson Studio for sharing."
        },
        {
            "cell_type": "code",
            "execution_count": 9,
            "metadata": {},
            "outputs": [
                {
                    "data": {
                        "text/plain": "(194673, 38)"
                    },
                    "execution_count": 9,
                    "metadata": {},
                    "output_type": "execute_result"
                }
            ],
            "source": "df.shape"
        },
        {
            "cell_type": "code",
            "execution_count": 19,
            "metadata": {},
            "outputs": [
                {
                    "data": {
                        "text/html": "<div>\n<style scoped>\n    .dataframe tbody tr th:only-of-type {\n        vertical-align: middle;\n    }\n\n    .dataframe tbody tr th {\n        vertical-align: top;\n    }\n\n    .dataframe thead th {\n        text-align: right;\n    }\n</style>\n<table border=\"1\" class=\"dataframe\">\n  <thead>\n    <tr style=\"text-align: right;\">\n      <th></th>\n      <th>SEVERITYCODE</th>\n      <th>SEVERITYDESC</th>\n      <th>WEATHER</th>\n      <th>ROADCOND</th>\n      <th>LIGHTCOND</th>\n      <th>ADDRTYPE</th>\n      <th>LOCATION</th>\n      <th>COLLISIONTYPE</th>\n    </tr>\n  </thead>\n  <tbody>\n    <tr>\n      <th>0</th>\n      <td>2</td>\n      <td>Injury Collision</td>\n      <td>Overcast</td>\n      <td>Wet</td>\n      <td>Daylight</td>\n      <td>Intersection</td>\n      <td>5TH AVE NE AND NE 103RD ST</td>\n      <td>Angles</td>\n    </tr>\n    <tr>\n      <th>1</th>\n      <td>1</td>\n      <td>Property Damage Only Collision</td>\n      <td>Raining</td>\n      <td>Wet</td>\n      <td>Dark - Street Lights On</td>\n      <td>Block</td>\n      <td>AURORA BR BETWEEN RAYE ST AND BRIDGE WAY N</td>\n      <td>Sideswipe</td>\n    </tr>\n    <tr>\n      <th>2</th>\n      <td>1</td>\n      <td>Property Damage Only Collision</td>\n      <td>Overcast</td>\n      <td>Dry</td>\n      <td>Daylight</td>\n      <td>Block</td>\n      <td>4TH AVE BETWEEN SENECA ST AND UNIVERSITY ST</td>\n      <td>Parked Car</td>\n    </tr>\n    <tr>\n      <th>3</th>\n      <td>1</td>\n      <td>Property Damage Only Collision</td>\n      <td>Clear</td>\n      <td>Dry</td>\n      <td>Daylight</td>\n      <td>Block</td>\n      <td>2ND AVE BETWEEN MARION ST AND MADISON ST</td>\n      <td>Other</td>\n    </tr>\n    <tr>\n      <th>4</th>\n      <td>2</td>\n      <td>Injury Collision</td>\n      <td>Raining</td>\n      <td>Wet</td>\n      <td>Daylight</td>\n      <td>Intersection</td>\n      <td>SWIFT AVE S AND SWIFT AV OFF RP</td>\n      <td>Angles</td>\n    </tr>\n  </tbody>\n</table>\n</div>",
                        "text/plain": "   SEVERITYCODE                    SEVERITYDESC   WEATHER ROADCOND  \\\n0             2                Injury Collision  Overcast      Wet   \n1             1  Property Damage Only Collision   Raining      Wet   \n2             1  Property Damage Only Collision  Overcast      Dry   \n3             1  Property Damage Only Collision     Clear      Dry   \n4             2                Injury Collision   Raining      Wet   \n\n                 LIGHTCOND      ADDRTYPE  \\\n0                 Daylight  Intersection   \n1  Dark - Street Lights On         Block   \n2                 Daylight         Block   \n3                 Daylight         Block   \n4                 Daylight  Intersection   \n\n                                      LOCATION COLLISIONTYPE  \n0                   5TH AVE NE AND NE 103RD ST        Angles  \n1   AURORA BR BETWEEN RAYE ST AND BRIDGE WAY N     Sideswipe  \n2  4TH AVE BETWEEN SENECA ST AND UNIVERSITY ST    Parked Car  \n3     2ND AVE BETWEEN MARION ST AND MADISON ST         Other  \n4              SWIFT AVE S AND SWIFT AV OFF RP        Angles  "
                    },
                    "execution_count": 19,
                    "metadata": {},
                    "output_type": "execute_result"
                }
            ],
            "source": "dfcoll = df[['SEVERITYCODE','SEVERITYDESC','WEATHER','ROADCOND','LIGHTCOND','ADDRTYPE','LOCATION','COLLISIONTYPE']]\n\ndfcoll.head()"
        },
        {
            "cell_type": "markdown",
            "metadata": {},
            "source": "For this project, we will take a closer look at the weather, road condition, and light condition to predict severity of a car accident. We have eliminated data columns we don't need from the dataset that won't assist in making a determination using these factors. Upon looking at the data below, one can see the number of reported accidents and the severity of them under various weather conditions. \n\nWe will create a test set from this data and look further into road conditions and lighting conditions for each weather type. Our focus will be on Clear, OVercast, Raining, and Snowing types of weather due to the extensive amount of data available for each."
        },
        {
            "cell_type": "code",
            "execution_count": 31,
            "metadata": {},
            "outputs": [
                {
                    "data": {
                        "text/html": "<div>\n<style scoped>\n    .dataframe tbody tr th:only-of-type {\n        vertical-align: middle;\n    }\n\n    .dataframe tbody tr th {\n        vertical-align: top;\n    }\n\n    .dataframe thead th {\n        text-align: right;\n    }\n</style>\n<table border=\"1\" class=\"dataframe\">\n  <thead>\n    <tr style=\"text-align: right;\">\n      <th>SEVERITYCODE</th>\n      <th>1</th>\n      <th>2</th>\n    </tr>\n    <tr>\n      <th>WEATHER</th>\n      <th></th>\n      <th></th>\n    </tr>\n  </thead>\n  <tbody>\n    <tr>\n      <th>Blowing Sand/Dirt</th>\n      <td>41</td>\n      <td>15</td>\n    </tr>\n    <tr>\n      <th>Clear</th>\n      <td>75295</td>\n      <td>35840</td>\n    </tr>\n    <tr>\n      <th>Fog/Smog/Smoke</th>\n      <td>382</td>\n      <td>187</td>\n    </tr>\n    <tr>\n      <th>Other</th>\n      <td>716</td>\n      <td>116</td>\n    </tr>\n    <tr>\n      <th>Overcast</th>\n      <td>18969</td>\n      <td>8745</td>\n    </tr>\n    <tr>\n      <th>Partly Cloudy</th>\n      <td>2</td>\n      <td>3</td>\n    </tr>\n    <tr>\n      <th>Raining</th>\n      <td>21969</td>\n      <td>11176</td>\n    </tr>\n    <tr>\n      <th>Severe Crosswind</th>\n      <td>18</td>\n      <td>7</td>\n    </tr>\n    <tr>\n      <th>Sleet/Hail/Freezing Rain</th>\n      <td>85</td>\n      <td>28</td>\n    </tr>\n    <tr>\n      <th>Snowing</th>\n      <td>736</td>\n      <td>171</td>\n    </tr>\n    <tr>\n      <th>Unknown</th>\n      <td>14275</td>\n      <td>816</td>\n    </tr>\n  </tbody>\n</table>\n</div>",
                        "text/plain": "SEVERITYCODE                  1      2\nWEATHER                               \nBlowing Sand/Dirt            41     15\nClear                     75295  35840\nFog/Smog/Smoke              382    187\nOther                       716    116\nOvercast                  18969   8745\nPartly Cloudy                 2      3\nRaining                   21969  11176\nSevere Crosswind             18      7\nSleet/Hail/Freezing Rain     85     28\nSnowing                     736    171\nUnknown                   14275    816"
                    },
                    "execution_count": 31,
                    "metadata": {},
                    "output_type": "execute_result"
                }
            ],
            "source": "pd.crosstab(dfcoll.WEATHER,dfcoll.SEVERITYCODE)"
        },
        {
            "cell_type": "markdown",
            "metadata": {},
            "source": "# Sources\n\n1. \"Seattle's Rainy Reputation Is Well-Deserved\", The Weather Channel, October 14, 2016; https://weather.com/science/weather-explainers/news/seattle-rainy-reputation"
        }
    ],
    "metadata": {
        "kernelspec": {
            "display_name": "Python 3.6",
            "language": "python",
            "name": "python3"
        },
        "language_info": {
            "codemirror_mode": {
                "name": "ipython",
                "version": 3
            },
            "file_extension": ".py",
            "mimetype": "text/x-python",
            "name": "python",
            "nbconvert_exporter": "python",
            "pygments_lexer": "ipython3",
            "version": "3.6.9"
        }
    },
    "nbformat": 4,
    "nbformat_minor": 1
}