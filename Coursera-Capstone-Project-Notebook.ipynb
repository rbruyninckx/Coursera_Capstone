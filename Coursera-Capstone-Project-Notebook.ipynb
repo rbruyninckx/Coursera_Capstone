{
    "cells": [
        {
            "cell_type": "markdown",
            "metadata": {},
            "source": "# Predicting the Severity of a Car Accident in Seattle, Washington"
        },
        {
            "cell_type": "markdown",
            "metadata": {
                "collapsed": true
            },
            "source": "# Introduction / Business Problem\n\nSeattle, Washington, has a notorious reputation as being a wet and rainy city. As Seattle experiences an average of 152 rainy days a year(1) -- more than most North American cities -- we want to see if there is a correlation between weather and car accidents on Seattle streets. Using extensive accident data gathered from the Seattle Department of Transportation, we will predict the severity of such accidents under various weather conditions and make a determination if such factors as weather, time of day, and road condition, have an effect on the frequency of car accidents, as well as the severity of them.\n\nThe assessment and predictions to be performed here in this project shall be of interest to motorists of Seattle streets. A motorist could use these predictions and analyses to plan their travels around certain weather, road, and lighting conditions."
        },
        {
            "cell_type": "markdown",
            "metadata": {},
            "source": "# Data\n\nWe will be using a data set published by the Seattle Department of Transportation (SDOT) titled \"Collisions - All Years\" that contains 194,673 collisions that occurred between January 1, 2004, and May 20, 2020. The collisions were provided by the Seattle Police Department and recorded by the SDOT's Traffic Records group. A sample of the data is below:"
        },
        {
            "cell_type": "code",
            "execution_count": 1,
            "metadata": {},
            "outputs": [],
            "source": "import pandas as pd\nimport numpy as np\nfrom sklearn.linear_model import LinearRegression,  LogisticRegression\nimport pylab as pl\nimport seaborn as sns\nimport scipy.optimize as opt\nfrom sklearn import preprocessing\nfrom sklearn.preprocessing import LabelEncoder\nfrom sklearn.preprocessing import OneHotEncoder\nfrom sklearn.model_selection import train_test_split\n%matplotlib inline\nimport matplotlib.pyplot as plt\nfrom sklearn.tree import DecisionTreeClassifier\nfrom sklearn import metrics\nfrom sklearn import svm\nfrom sklearn.metrics import classification_report, confusion_matrix, jaccard_similarity_score, f1_score, log_loss\nimport itertools\n"
        },
        {
            "cell_type": "code",
            "execution_count": 2,
            "metadata": {},
            "outputs": [
                {
                    "name": "stderr",
                    "output_type": "stream",
                    "text": "/opt/conda/envs/Python36/lib/python3.6/site-packages/IPython/core/interactiveshell.py:3020: DtypeWarning: Columns (33) have mixed types. Specify dtype option on import or set low_memory=False.\n  interactivity=interactivity, compiler=compiler, result=result)\n"
                },
                {
                    "data": {
                        "text/html": "<div>\n<style scoped>\n    .dataframe tbody tr th:only-of-type {\n        vertical-align: middle;\n    }\n\n    .dataframe tbody tr th {\n        vertical-align: top;\n    }\n\n    .dataframe thead th {\n        text-align: right;\n    }\n</style>\n<table border=\"1\" class=\"dataframe\">\n  <thead>\n    <tr style=\"text-align: right;\">\n      <th></th>\n      <th>SEVERITYCODE</th>\n      <th>X</th>\n      <th>Y</th>\n      <th>OBJECTID</th>\n      <th>INCKEY</th>\n      <th>COLDETKEY</th>\n      <th>REPORTNO</th>\n      <th>STATUS</th>\n      <th>ADDRTYPE</th>\n      <th>INTKEY</th>\n      <th>...</th>\n      <th>ROADCOND</th>\n      <th>LIGHTCOND</th>\n      <th>PEDROWNOTGRNT</th>\n      <th>SDOTCOLNUM</th>\n      <th>SPEEDING</th>\n      <th>ST_COLCODE</th>\n      <th>ST_COLDESC</th>\n      <th>SEGLANEKEY</th>\n      <th>CROSSWALKKEY</th>\n      <th>HITPARKEDCAR</th>\n    </tr>\n  </thead>\n  <tbody>\n    <tr>\n      <th>0</th>\n      <td>2</td>\n      <td>-122.323148</td>\n      <td>47.703140</td>\n      <td>1</td>\n      <td>1307</td>\n      <td>1307</td>\n      <td>3502005</td>\n      <td>Matched</td>\n      <td>Intersection</td>\n      <td>37475.0</td>\n      <td>...</td>\n      <td>Wet</td>\n      <td>Daylight</td>\n      <td>NaN</td>\n      <td>NaN</td>\n      <td>NaN</td>\n      <td>10</td>\n      <td>Entering at angle</td>\n      <td>0</td>\n      <td>0</td>\n      <td>N</td>\n    </tr>\n    <tr>\n      <th>1</th>\n      <td>1</td>\n      <td>-122.347294</td>\n      <td>47.647172</td>\n      <td>2</td>\n      <td>52200</td>\n      <td>52200</td>\n      <td>2607959</td>\n      <td>Matched</td>\n      <td>Block</td>\n      <td>NaN</td>\n      <td>...</td>\n      <td>Wet</td>\n      <td>Dark - Street Lights On</td>\n      <td>NaN</td>\n      <td>6354039.0</td>\n      <td>NaN</td>\n      <td>11</td>\n      <td>From same direction - both going straight - bo...</td>\n      <td>0</td>\n      <td>0</td>\n      <td>N</td>\n    </tr>\n    <tr>\n      <th>2</th>\n      <td>1</td>\n      <td>-122.334540</td>\n      <td>47.607871</td>\n      <td>3</td>\n      <td>26700</td>\n      <td>26700</td>\n      <td>1482393</td>\n      <td>Matched</td>\n      <td>Block</td>\n      <td>NaN</td>\n      <td>...</td>\n      <td>Dry</td>\n      <td>Daylight</td>\n      <td>NaN</td>\n      <td>4323031.0</td>\n      <td>NaN</td>\n      <td>32</td>\n      <td>One parked--one moving</td>\n      <td>0</td>\n      <td>0</td>\n      <td>N</td>\n    </tr>\n    <tr>\n      <th>3</th>\n      <td>1</td>\n      <td>-122.334803</td>\n      <td>47.604803</td>\n      <td>4</td>\n      <td>1144</td>\n      <td>1144</td>\n      <td>3503937</td>\n      <td>Matched</td>\n      <td>Block</td>\n      <td>NaN</td>\n      <td>...</td>\n      <td>Dry</td>\n      <td>Daylight</td>\n      <td>NaN</td>\n      <td>NaN</td>\n      <td>NaN</td>\n      <td>23</td>\n      <td>From same direction - all others</td>\n      <td>0</td>\n      <td>0</td>\n      <td>N</td>\n    </tr>\n    <tr>\n      <th>4</th>\n      <td>2</td>\n      <td>-122.306426</td>\n      <td>47.545739</td>\n      <td>5</td>\n      <td>17700</td>\n      <td>17700</td>\n      <td>1807429</td>\n      <td>Matched</td>\n      <td>Intersection</td>\n      <td>34387.0</td>\n      <td>...</td>\n      <td>Wet</td>\n      <td>Daylight</td>\n      <td>NaN</td>\n      <td>4028032.0</td>\n      <td>NaN</td>\n      <td>10</td>\n      <td>Entering at angle</td>\n      <td>0</td>\n      <td>0</td>\n      <td>N</td>\n    </tr>\n  </tbody>\n</table>\n<p>5 rows \u00d7 38 columns</p>\n</div>",
                        "text/plain": "   SEVERITYCODE           X          Y  OBJECTID  INCKEY  COLDETKEY REPORTNO  \\\n0             2 -122.323148  47.703140         1    1307       1307  3502005   \n1             1 -122.347294  47.647172         2   52200      52200  2607959   \n2             1 -122.334540  47.607871         3   26700      26700  1482393   \n3             1 -122.334803  47.604803         4    1144       1144  3503937   \n4             2 -122.306426  47.545739         5   17700      17700  1807429   \n\n    STATUS      ADDRTYPE   INTKEY  ... ROADCOND                LIGHTCOND  \\\n0  Matched  Intersection  37475.0  ...      Wet                 Daylight   \n1  Matched         Block      NaN  ...      Wet  Dark - Street Lights On   \n2  Matched         Block      NaN  ...      Dry                 Daylight   \n3  Matched         Block      NaN  ...      Dry                 Daylight   \n4  Matched  Intersection  34387.0  ...      Wet                 Daylight   \n\n  PEDROWNOTGRNT  SDOTCOLNUM SPEEDING ST_COLCODE  \\\n0           NaN         NaN      NaN         10   \n1           NaN   6354039.0      NaN         11   \n2           NaN   4323031.0      NaN         32   \n3           NaN         NaN      NaN         23   \n4           NaN   4028032.0      NaN         10   \n\n                                          ST_COLDESC  SEGLANEKEY  \\\n0                                  Entering at angle           0   \n1  From same direction - both going straight - bo...           0   \n2                             One parked--one moving           0   \n3                   From same direction - all others           0   \n4                                  Entering at angle           0   \n\n   CROSSWALKKEY  HITPARKEDCAR  \n0             0             N  \n1             0             N  \n2             0             N  \n3             0             N  \n4             0             N  \n\n[5 rows x 38 columns]"
                    },
                    "execution_count": 2,
                    "metadata": {},
                    "output_type": "execute_result"
                }
            ],
            "source": "# The code was removed by Watson Studio for sharing."
        },
        {
            "cell_type": "code",
            "execution_count": 3,
            "metadata": {},
            "outputs": [
                {
                    "data": {
                        "text/plain": "(194673, 38)"
                    },
                    "execution_count": 3,
                    "metadata": {},
                    "output_type": "execute_result"
                }
            ],
            "source": "df.shape"
        },
        {
            "cell_type": "code",
            "execution_count": 4,
            "metadata": {},
            "outputs": [
                {
                    "data": {
                        "text/html": "<div>\n<style scoped>\n    .dataframe tbody tr th:only-of-type {\n        vertical-align: middle;\n    }\n\n    .dataframe tbody tr th {\n        vertical-align: top;\n    }\n\n    .dataframe thead th {\n        text-align: right;\n    }\n</style>\n<table border=\"1\" class=\"dataframe\">\n  <thead>\n    <tr style=\"text-align: right;\">\n      <th></th>\n      <th>SEVERITYCODE</th>\n      <th>WEATHER</th>\n      <th>ROADCOND</th>\n      <th>LIGHTCOND</th>\n    </tr>\n  </thead>\n  <tbody>\n    <tr>\n      <th>0</th>\n      <td>2</td>\n      <td>Overcast</td>\n      <td>Wet</td>\n      <td>Daylight</td>\n    </tr>\n    <tr>\n      <th>1</th>\n      <td>1</td>\n      <td>Raining</td>\n      <td>Wet</td>\n      <td>Dark - Street Lights On</td>\n    </tr>\n    <tr>\n      <th>2</th>\n      <td>1</td>\n      <td>Overcast</td>\n      <td>Dry</td>\n      <td>Daylight</td>\n    </tr>\n    <tr>\n      <th>3</th>\n      <td>1</td>\n      <td>Clear</td>\n      <td>Dry</td>\n      <td>Daylight</td>\n    </tr>\n    <tr>\n      <th>4</th>\n      <td>2</td>\n      <td>Raining</td>\n      <td>Wet</td>\n      <td>Daylight</td>\n    </tr>\n  </tbody>\n</table>\n</div>",
                        "text/plain": "   SEVERITYCODE   WEATHER ROADCOND                LIGHTCOND\n0             2  Overcast      Wet                 Daylight\n1             1   Raining      Wet  Dark - Street Lights On\n2             1  Overcast      Dry                 Daylight\n3             1     Clear      Dry                 Daylight\n4             2   Raining      Wet                 Daylight"
                    },
                    "execution_count": 4,
                    "metadata": {},
                    "output_type": "execute_result"
                }
            ],
            "source": "dfcoll = df[['SEVERITYCODE','WEATHER','ROADCOND','LIGHTCOND']]\n\ndfcoll.head()"
        },
        {
            "cell_type": "markdown",
            "metadata": {},
            "source": "## Data Methodology\n\nFor this project, we will take a closer look at the weather, road condition, and light condition to predict severity of a car accident. We have eliminated data columns we don't need from the dataset that won't assist in making a determination using these factors. In looking at the data below, one can see the number of reported accidents and the severity of them under various weather conditions. Severity Code 1 are non-injury accidents and Severity Code 2 are minor injury accidents.\n\nWe will create a test set from this data and look further into road conditions and lighting conditions for each weather type. "
        },
        {
            "cell_type": "code",
            "execution_count": 5,
            "metadata": {},
            "outputs": [
                {
                    "data": {
                        "text/html": "<div>\n<style scoped>\n    .dataframe tbody tr th:only-of-type {\n        vertical-align: middle;\n    }\n\n    .dataframe tbody tr th {\n        vertical-align: top;\n    }\n\n    .dataframe thead th {\n        text-align: right;\n    }\n</style>\n<table border=\"1\" class=\"dataframe\">\n  <thead>\n    <tr style=\"text-align: right;\">\n      <th>SEVERITYCODE</th>\n      <th>1</th>\n      <th>2</th>\n    </tr>\n    <tr>\n      <th>WEATHER</th>\n      <th></th>\n      <th></th>\n    </tr>\n  </thead>\n  <tbody>\n    <tr>\n      <th>Blowing Sand/Dirt</th>\n      <td>41</td>\n      <td>15</td>\n    </tr>\n    <tr>\n      <th>Clear</th>\n      <td>75295</td>\n      <td>35840</td>\n    </tr>\n    <tr>\n      <th>Fog/Smog/Smoke</th>\n      <td>382</td>\n      <td>187</td>\n    </tr>\n    <tr>\n      <th>Other</th>\n      <td>716</td>\n      <td>116</td>\n    </tr>\n    <tr>\n      <th>Overcast</th>\n      <td>18969</td>\n      <td>8745</td>\n    </tr>\n    <tr>\n      <th>Partly Cloudy</th>\n      <td>2</td>\n      <td>3</td>\n    </tr>\n    <tr>\n      <th>Raining</th>\n      <td>21969</td>\n      <td>11176</td>\n    </tr>\n    <tr>\n      <th>Severe Crosswind</th>\n      <td>18</td>\n      <td>7</td>\n    </tr>\n    <tr>\n      <th>Sleet/Hail/Freezing Rain</th>\n      <td>85</td>\n      <td>28</td>\n    </tr>\n    <tr>\n      <th>Snowing</th>\n      <td>736</td>\n      <td>171</td>\n    </tr>\n    <tr>\n      <th>Unknown</th>\n      <td>14275</td>\n      <td>816</td>\n    </tr>\n  </tbody>\n</table>\n</div>",
                        "text/plain": "SEVERITYCODE                  1      2\nWEATHER                               \nBlowing Sand/Dirt            41     15\nClear                     75295  35840\nFog/Smog/Smoke              382    187\nOther                       716    116\nOvercast                  18969   8745\nPartly Cloudy                 2      3\nRaining                   21969  11176\nSevere Crosswind             18      7\nSleet/Hail/Freezing Rain     85     28\nSnowing                     736    171\nUnknown                   14275    816"
                    },
                    "execution_count": 5,
                    "metadata": {},
                    "output_type": "execute_result"
                }
            ],
            "source": "pd.crosstab(dfcoll.WEATHER,dfcoll.SEVERITYCODE)"
        },
        {
            "cell_type": "code",
            "execution_count": 6,
            "metadata": {},
            "outputs": [
                {
                    "name": "stderr",
                    "output_type": "stream",
                    "text": "/opt/conda/envs/Python36/lib/python3.6/site-packages/ipykernel/__main__.py:1: SettingWithCopyWarning: \nA value is trying to be set on a copy of a slice from a DataFrame\n\nSee the caveats in the documentation: http://pandas.pydata.org/pandas-docs/stable/indexing.html#indexing-view-versus-copy\n  if __name__ == '__main__':\n"
                },
                {
                    "data": {
                        "text/plain": "(189337, 4)"
                    },
                    "execution_count": 6,
                    "metadata": {},
                    "output_type": "execute_result"
                }
            ],
            "source": "dfcoll.dropna(axis=0,inplace=True)\ndfcoll.shape"
        },
        {
            "cell_type": "code",
            "execution_count": 7,
            "metadata": {},
            "outputs": [
                {
                    "name": "stderr",
                    "output_type": "stream",
                    "text": "/opt/conda/envs/Python36/lib/python3.6/site-packages/pandas/core/frame.py:4042: SettingWithCopyWarning: \nA value is trying to be set on a copy of a slice from a DataFrame\n\nSee the caveats in the documentation: http://pandas.pydata.org/pandas-docs/stable/indexing.html#indexing-view-versus-copy\n  method=method)\n"
                }
            ],
            "source": "dfcoll.replace({'Other':None,'Unknown':None,'NaN':None},inplace=True)"
        },
        {
            "cell_type": "markdown",
            "metadata": {},
            "source": "We will delete any row with missing or incomplete values, such as those marked with \"Unknown\", \"Other\", or \"NA\"."
        },
        {
            "cell_type": "code",
            "execution_count": 8,
            "metadata": {},
            "outputs": [
                {
                    "name": "stderr",
                    "output_type": "stream",
                    "text": "/opt/conda/envs/Python36/lib/python3.6/site-packages/ipykernel/__main__.py:1: SettingWithCopyWarning: \nA value is trying to be set on a copy of a slice from a DataFrame\n\nSee the caveats in the documentation: http://pandas.pydata.org/pandas-docs/stable/indexing.html#indexing-view-versus-copy\n  if __name__ == '__main__':\n"
                },
                {
                    "data": {
                        "text/plain": "(169957, 4)"
                    },
                    "execution_count": 8,
                    "metadata": {},
                    "output_type": "execute_result"
                }
            ],
            "source": "dfcoll.dropna(axis=0,inplace=True)\ndfcoll.shape"
        },
        {
            "cell_type": "markdown",
            "metadata": {},
            "source": "From the data cleanup, we see we now have 169,957 rows of accident data remaining. 24,716 rows were removed for incomplete or missing data. This amounts to 12.7% of the original dataset.\n\nFor this prediction, we will focus on the three main weather conditions detected: Clear, Raining, and Overcast. These three categories total for 168,396 records, or 99% of the data. \n\nDue to the smaller numbers recorded for the other weather conditions, it can be assumed that those weather conditions occur rarely and/or are open for interpretation by the officer recording the accident."
        },
        {
            "cell_type": "code",
            "execution_count": 9,
            "metadata": {},
            "outputs": [
                {
                    "data": {
                        "text/html": "<div>\n<style scoped>\n    .dataframe tbody tr th:only-of-type {\n        vertical-align: middle;\n    }\n\n    .dataframe tbody tr th {\n        vertical-align: top;\n    }\n\n    .dataframe thead th {\n        text-align: right;\n    }\n</style>\n<table border=\"1\" class=\"dataframe\">\n  <thead>\n    <tr style=\"text-align: right;\">\n      <th></th>\n      <th>SEVERITYCODE</th>\n      <th>WEATHER</th>\n      <th>ROADCOND</th>\n      <th>LIGHTCOND</th>\n    </tr>\n  </thead>\n  <tbody>\n    <tr>\n      <th>0</th>\n      <td>2</td>\n      <td>Overcast</td>\n      <td>Wet</td>\n      <td>Daylight</td>\n    </tr>\n    <tr>\n      <th>1</th>\n      <td>1</td>\n      <td>Raining</td>\n      <td>Wet</td>\n      <td>Dark - Street Lights On</td>\n    </tr>\n    <tr>\n      <th>2</th>\n      <td>1</td>\n      <td>Overcast</td>\n      <td>Dry</td>\n      <td>Daylight</td>\n    </tr>\n    <tr>\n      <th>3</th>\n      <td>1</td>\n      <td>Clear</td>\n      <td>Dry</td>\n      <td>Daylight</td>\n    </tr>\n    <tr>\n      <th>4</th>\n      <td>2</td>\n      <td>Raining</td>\n      <td>Wet</td>\n      <td>Daylight</td>\n    </tr>\n  </tbody>\n</table>\n</div>",
                        "text/plain": "   SEVERITYCODE   WEATHER ROADCOND                LIGHTCOND\n0             2  Overcast      Wet                 Daylight\n1             1   Raining      Wet  Dark - Street Lights On\n2             1  Overcast      Dry                 Daylight\n3             1     Clear      Dry                 Daylight\n4             2   Raining      Wet                 Daylight"
                    },
                    "execution_count": 9,
                    "metadata": {},
                    "output_type": "execute_result"
                }
            ],
            "source": "dfnew = dfcoll[dfcoll.WEATHER.isin(['Raining','Clear','Overcast'])]\ndfnew.head()"
        },
        {
            "cell_type": "code",
            "execution_count": 10,
            "metadata": {},
            "outputs": [
                {
                    "data": {
                        "text/plain": "(168396, 4)"
                    },
                    "execution_count": 10,
                    "metadata": {},
                    "output_type": "execute_result"
                }
            ],
            "source": "dfnew.shape"
        },
        {
            "cell_type": "code",
            "execution_count": 11,
            "metadata": {},
            "outputs": [
                {
                    "data": {
                        "text/html": "<div>\n<style scoped>\n    .dataframe tbody tr th:only-of-type {\n        vertical-align: middle;\n    }\n\n    .dataframe tbody tr th {\n        vertical-align: top;\n    }\n\n    .dataframe thead th {\n        text-align: right;\n    }\n</style>\n<table border=\"1\" class=\"dataframe\">\n  <thead>\n    <tr style=\"text-align: right;\">\n      <th>SEVERITYCODE</th>\n      <th>1</th>\n      <th>2</th>\n    </tr>\n    <tr>\n      <th>WEATHER</th>\n      <th></th>\n      <th></th>\n    </tr>\n  </thead>\n  <tbody>\n    <tr>\n      <th>Clear</th>\n      <td>73243</td>\n      <td>35582</td>\n    </tr>\n    <tr>\n      <th>Overcast</th>\n      <td>18299</td>\n      <td>8624</td>\n    </tr>\n    <tr>\n      <th>Raining</th>\n      <td>21570</td>\n      <td>11078</td>\n    </tr>\n  </tbody>\n</table>\n</div>",
                        "text/plain": "SEVERITYCODE      1      2\nWEATHER                   \nClear         73243  35582\nOvercast      18299   8624\nRaining       21570  11078"
                    },
                    "execution_count": 11,
                    "metadata": {},
                    "output_type": "execute_result"
                }
            ],
            "source": "pd.crosstab(dfnew.WEATHER,dfnew.SEVERITYCODE)"
        },
        {
            "cell_type": "markdown",
            "metadata": {},
            "source": "Of the main weather conditions at the time of a car accident, 108,825 car accidents (64.6% of all accidents) occurred during clear weather, whereas only 32,648 (19.4%) occurred during rainy conditions. So the initial thoughts that rainy weather may contribute to more accidents appear to be a false asumption."
        },
        {
            "cell_type": "code",
            "execution_count": 12,
            "metadata": {},
            "outputs": [
                {
                    "data": {
                        "text/plain": "SEVERITYCODE     int64\nWEATHER         object\nROADCOND        object\nLIGHTCOND       object\ndtype: object"
                    },
                    "execution_count": 12,
                    "metadata": {},
                    "output_type": "execute_result"
                }
            ],
            "source": "dfnew.dtypes"
        },
        {
            "cell_type": "markdown",
            "metadata": {},
            "source": "We will continue to normalize the data by classifying certain lighting conditions together into two groups: Day or Night. Day will consist of all data marked as \"Daylight\" and \"Dawn\". Night will consist of all data marked as \"Dusk\" and all variations of \"Dark\".\n\nWe will also group the data under Road Conditions. \"Ice\", \"Snow/slush\", and \"Standing Water\" will be considered \"Wet\". We will omit \"Sand/Mud/Dirt\" and \"Oil\" as there are not enough records to take into consideration."
        },
        {
            "cell_type": "code",
            "execution_count": 13,
            "metadata": {},
            "outputs": [
                {
                    "data": {
                        "text/plain": "Daylight                    112006\nDark - Street Lights On      45962\nDusk                          5615\nDawn                          2339\nDark - No Street Lights       1384\nDark - Street Lights Off      1082\nDark - Unknown Lighting          8\nName: LIGHTCOND, dtype: int64"
                    },
                    "execution_count": 13,
                    "metadata": {},
                    "output_type": "execute_result"
                }
            ],
            "source": "dfnew['LIGHTCOND'].value_counts()"
        },
        {
            "cell_type": "code",
            "execution_count": 14,
            "metadata": {},
            "outputs": [
                {
                    "name": "stderr",
                    "output_type": "stream",
                    "text": "/opt/conda/envs/Python36/lib/python3.6/site-packages/ipykernel/__main__.py:1: SettingWithCopyWarning: \nA value is trying to be set on a copy of a slice from a DataFrame.\nTry using .loc[row_indexer,col_indexer] = value instead\n\nSee the caveats in the documentation: http://pandas.pydata.org/pandas-docs/stable/indexing.html#indexing-view-versus-copy\n  if __name__ == '__main__':\n/opt/conda/envs/Python36/lib/python3.6/site-packages/ipykernel/__main__.py:2: SettingWithCopyWarning: \nA value is trying to be set on a copy of a slice from a DataFrame.\nTry using .loc[row_indexer,col_indexer] = value instead\n\nSee the caveats in the documentation: http://pandas.pydata.org/pandas-docs/stable/indexing.html#indexing-view-versus-copy\n  from ipykernel import kernelapp as app\n/opt/conda/envs/Python36/lib/python3.6/site-packages/ipykernel/__main__.py:3: SettingWithCopyWarning: \nA value is trying to be set on a copy of a slice from a DataFrame\n\nSee the caveats in the documentation: http://pandas.pydata.org/pandas-docs/stable/indexing.html#indexing-view-versus-copy\n  app.launch_new_instance()\n"
                },
                {
                    "data": {
                        "text/plain": "Daylight    114345\nDark         54051\nName: LIGHTCOND, dtype: int64"
                    },
                    "execution_count": 14,
                    "metadata": {},
                    "output_type": "execute_result"
                }
            ],
            "source": "dfnew['LIGHTCOND'] = dfnew['LIGHTCOND'].replace(['Dark - Street Lights On','Dark - No Street Lights','Dark - Street Lights Off', 'Dark - Unknown Lighting','Dusk'],'Dark')\ndfnew['LIGHTCOND'] = dfnew['LIGHTCOND'].replace(['Dawn'],'Daylight')\ndfnew.dropna(axis=0,inplace=True)\ndfnew['LIGHTCOND'].value_counts()"
        },
        {
            "cell_type": "code",
            "execution_count": 15,
            "metadata": {},
            "outputs": [
                {
                    "data": {
                        "text/plain": "Dry               121071\nWet                45932\nIce                  867\nSnow/Slush           303\nStanding Water       102\nSand/Mud/Dirt         61\nOil                   60\nName: ROADCOND, dtype: int64"
                    },
                    "execution_count": 15,
                    "metadata": {},
                    "output_type": "execute_result"
                }
            ],
            "source": "dfnew['ROADCOND'].value_counts()"
        },
        {
            "cell_type": "code",
            "execution_count": 16,
            "metadata": {},
            "outputs": [
                {
                    "name": "stderr",
                    "output_type": "stream",
                    "text": "/opt/conda/envs/Python36/lib/python3.6/site-packages/ipykernel/__main__.py:1: SettingWithCopyWarning: \nA value is trying to be set on a copy of a slice from a DataFrame.\nTry using .loc[row_indexer,col_indexer] = value instead\n\nSee the caveats in the documentation: http://pandas.pydata.org/pandas-docs/stable/indexing.html#indexing-view-versus-copy\n  if __name__ == '__main__':\n/opt/conda/envs/Python36/lib/python3.6/site-packages/ipykernel/__main__.py:2: SettingWithCopyWarning: \nA value is trying to be set on a copy of a slice from a DataFrame.\nTry using .loc[row_indexer,col_indexer] = value instead\n\nSee the caveats in the documentation: http://pandas.pydata.org/pandas-docs/stable/indexing.html#indexing-view-versus-copy\n  from ipykernel import kernelapp as app\n/opt/conda/envs/Python36/lib/python3.6/site-packages/ipykernel/__main__.py:4: SettingWithCopyWarning: \nA value is trying to be set on a copy of a slice from a DataFrame\n\nSee the caveats in the documentation: http://pandas.pydata.org/pandas-docs/stable/indexing.html#indexing-view-versus-copy\n"
                },
                {
                    "data": {
                        "text/plain": "Dry    121155\nWet     47241\nName: ROADCOND, dtype: int64"
                    },
                    "execution_count": 16,
                    "metadata": {},
                    "output_type": "execute_result"
                }
            ],
            "source": "dfnew['ROADCOND'] = dfnew['ROADCOND'].replace(['Ice','Snow/Slush','Standing Water'],'Wet')\ndfnew['ROADCOND'] = dfnew['ROADCOND'].replace(['Sand/Mud/Dirt','Oil'],None)\n\ndfnew.dropna(axis=0,inplace=True)\ndfnew['ROADCOND'].value_counts()\n"
        },
        {
            "cell_type": "code",
            "execution_count": 17,
            "metadata": {},
            "outputs": [
                {
                    "name": "stderr",
                    "output_type": "stream",
                    "text": "/opt/conda/envs/Python36/lib/python3.6/site-packages/ipykernel/__main__.py:1: SettingWithCopyWarning: \nA value is trying to be set on a copy of a slice from a DataFrame\n\nSee the caveats in the documentation: http://pandas.pydata.org/pandas-docs/stable/indexing.html#indexing-view-versus-copy\n  if __name__ == '__main__':\n"
                },
                {
                    "data": {
                        "text/html": "<div>\n<style scoped>\n    .dataframe tbody tr th:only-of-type {\n        vertical-align: middle;\n    }\n\n    .dataframe tbody tr th {\n        vertical-align: top;\n    }\n\n    .dataframe thead th {\n        text-align: right;\n    }\n</style>\n<table border=\"1\" class=\"dataframe\">\n  <thead>\n    <tr style=\"text-align: right;\">\n      <th></th>\n      <th>SEVERITYCODE</th>\n      <th>WEATHER</th>\n      <th>ROADCOND</th>\n      <th>LIGHTCOND</th>\n    </tr>\n  </thead>\n  <tbody>\n    <tr>\n      <th>0</th>\n      <td>2</td>\n      <td>Overcast</td>\n      <td>Wet</td>\n      <td>Daylight</td>\n    </tr>\n    <tr>\n      <th>1</th>\n      <td>1</td>\n      <td>Raining</td>\n      <td>Wet</td>\n      <td>Dark</td>\n    </tr>\n    <tr>\n      <th>2</th>\n      <td>1</td>\n      <td>Overcast</td>\n      <td>Dry</td>\n      <td>Daylight</td>\n    </tr>\n    <tr>\n      <th>3</th>\n      <td>1</td>\n      <td>Clear</td>\n      <td>Dry</td>\n      <td>Daylight</td>\n    </tr>\n    <tr>\n      <th>4</th>\n      <td>2</td>\n      <td>Raining</td>\n      <td>Wet</td>\n      <td>Daylight</td>\n    </tr>\n  </tbody>\n</table>\n</div>",
                        "text/plain": "   SEVERITYCODE   WEATHER ROADCOND LIGHTCOND\n0             2  Overcast      Wet  Daylight\n1             1   Raining      Wet      Dark\n2             1  Overcast      Dry  Daylight\n3             1     Clear      Dry  Daylight\n4             2   Raining      Wet  Daylight"
                    },
                    "execution_count": 17,
                    "metadata": {},
                    "output_type": "execute_result"
                }
            ],
            "source": "dfnew.dropna(axis=0,inplace=True)\ndfnew.head()"
        },
        {
            "cell_type": "markdown",
            "metadata": {},
            "source": "We have categorized all the values and will now use these remaining values under the variables weather, road condition, and lighting condition to determine if those would be a good predictor of car accident severity. But, first, we need to convert all categorical values into a numeric representation. "
        },
        {
            "cell_type": "code",
            "execution_count": 18,
            "metadata": {},
            "outputs": [
                {
                    "name": "stderr",
                    "output_type": "stream",
                    "text": "/opt/conda/envs/Python36/lib/python3.6/site-packages/ipykernel/__main__.py:2: SettingWithCopyWarning: \nA value is trying to be set on a copy of a slice from a DataFrame.\nTry using .loc[row_indexer,col_indexer] = value instead\n\nSee the caveats in the documentation: http://pandas.pydata.org/pandas-docs/stable/indexing.html#indexing-view-versus-copy\n  from ipykernel import kernelapp as app\n/opt/conda/envs/Python36/lib/python3.6/site-packages/ipykernel/__main__.py:3: SettingWithCopyWarning: \nA value is trying to be set on a copy of a slice from a DataFrame.\nTry using .loc[row_indexer,col_indexer] = value instead\n\nSee the caveats in the documentation: http://pandas.pydata.org/pandas-docs/stable/indexing.html#indexing-view-versus-copy\n  app.launch_new_instance()\n/opt/conda/envs/Python36/lib/python3.6/site-packages/ipykernel/__main__.py:4: SettingWithCopyWarning: \nA value is trying to be set on a copy of a slice from a DataFrame.\nTry using .loc[row_indexer,col_indexer] = value instead\n\nSee the caveats in the documentation: http://pandas.pydata.org/pandas-docs/stable/indexing.html#indexing-view-versus-copy\n"
                },
                {
                    "data": {
                        "text/html": "<div>\n<style scoped>\n    .dataframe tbody tr th:only-of-type {\n        vertical-align: middle;\n    }\n\n    .dataframe tbody tr th {\n        vertical-align: top;\n    }\n\n    .dataframe thead th {\n        text-align: right;\n    }\n</style>\n<table border=\"1\" class=\"dataframe\">\n  <thead>\n    <tr style=\"text-align: right;\">\n      <th></th>\n      <th>SEVERITYCODE</th>\n      <th>WEATHER</th>\n      <th>ROADCOND</th>\n      <th>LIGHTCOND</th>\n      <th>WEATHERCODE</th>\n      <th>ROADCONDCODE</th>\n      <th>LIGHTCONDCODE</th>\n    </tr>\n  </thead>\n  <tbody>\n    <tr>\n      <th>0</th>\n      <td>2</td>\n      <td>Overcast</td>\n      <td>Wet</td>\n      <td>Daylight</td>\n      <td>1</td>\n      <td>1</td>\n      <td>1</td>\n    </tr>\n    <tr>\n      <th>1</th>\n      <td>1</td>\n      <td>Raining</td>\n      <td>Wet</td>\n      <td>Dark</td>\n      <td>2</td>\n      <td>1</td>\n      <td>0</td>\n    </tr>\n    <tr>\n      <th>2</th>\n      <td>1</td>\n      <td>Overcast</td>\n      <td>Dry</td>\n      <td>Daylight</td>\n      <td>1</td>\n      <td>0</td>\n      <td>1</td>\n    </tr>\n    <tr>\n      <th>3</th>\n      <td>1</td>\n      <td>Clear</td>\n      <td>Dry</td>\n      <td>Daylight</td>\n      <td>0</td>\n      <td>0</td>\n      <td>1</td>\n    </tr>\n    <tr>\n      <th>4</th>\n      <td>2</td>\n      <td>Raining</td>\n      <td>Wet</td>\n      <td>Daylight</td>\n      <td>2</td>\n      <td>1</td>\n      <td>1</td>\n    </tr>\n  </tbody>\n</table>\n</div>",
                        "text/plain": "   SEVERITYCODE   WEATHER ROADCOND LIGHTCOND  WEATHERCODE  ROADCONDCODE  \\\n0             2  Overcast      Wet  Daylight            1             1   \n1             1   Raining      Wet      Dark            2             1   \n2             1  Overcast      Dry  Daylight            1             0   \n3             1     Clear      Dry  Daylight            0             0   \n4             2   Raining      Wet  Daylight            2             1   \n\n   LIGHTCONDCODE  \n0              1  \n1              0  \n2              1  \n3              1  \n4              1  "
                    },
                    "execution_count": 18,
                    "metadata": {},
                    "output_type": "execute_result"
                }
            ],
            "source": "le = LabelEncoder()\ndfnew['WEATHERCODE'] = le.fit_transform(dfnew['WEATHER']) \ndfnew['ROADCONDCODE'] = le.fit_transform(dfnew['ROADCOND'])\ndfnew['LIGHTCONDCODE'] = le.fit_transform(dfnew['LIGHTCOND'])\ndfnew.head()"
        },
        {
            "cell_type": "code",
            "execution_count": 19,
            "metadata": {},
            "outputs": [
                {
                    "data": {
                        "text/plain": "array([[1, 1, 1],\n       [2, 1, 0],\n       [1, 0, 1],\n       [0, 0, 1],\n       [2, 1, 1]])"
                    },
                    "execution_count": 19,
                    "metadata": {},
                    "output_type": "execute_result"
                }
            ],
            "source": "features = dfnew[['WEATHERCODE','ROADCONDCODE','LIGHTCONDCODE']]\n\nX = np.asarray(features)\nX[0:5]"
        },
        {
            "cell_type": "code",
            "execution_count": 20,
            "metadata": {},
            "outputs": [
                {
                    "data": {
                        "text/plain": "array([2, 1, 1, 1, 2])"
                    },
                    "execution_count": 20,
                    "metadata": {},
                    "output_type": "execute_result"
                }
            ],
            "source": "y = np.asarray(dfnew['SEVERITYCODE'])\ny[0:5]\n"
        },
        {
            "cell_type": "markdown",
            "metadata": {},
            "source": "## Data Modeling and Evaluation\n\nWe will train and test several models to see which performs the best in predicting the severity of a car accident. Let's look first at a Decision Tree for prediction."
        },
        {
            "cell_type": "code",
            "execution_count": 21,
            "metadata": {},
            "outputs": [
                {
                    "name": "stdout",
                    "output_type": "stream",
                    "text": "(117877, 3)\n(117877,)\n(50519, 3)\n(50519,)\n"
                }
            ],
            "source": "X_trainset, X_testset, y_trainset, y_testset = train_test_split(X, y, test_size=0.3, random_state=3)\n\nprint(X_trainset.shape)\nprint(y_trainset.shape)\n\nprint(X_testset.shape)\nprint(y_testset.shape)"
        },
        {
            "cell_type": "code",
            "execution_count": 22,
            "metadata": {},
            "outputs": [],
            "source": "dtree = DecisionTreeClassifier(criterion=\"entropy\", max_depth = 7)\n"
        },
        {
            "cell_type": "code",
            "execution_count": 23,
            "metadata": {},
            "outputs": [
                {
                    "data": {
                        "text/plain": "DecisionTreeClassifier(class_weight=None, criterion='entropy', max_depth=7,\n            max_features=None, max_leaf_nodes=None,\n            min_impurity_decrease=0.0, min_impurity_split=None,\n            min_samples_leaf=1, min_samples_split=2,\n            min_weight_fraction_leaf=0.0, presort=False, random_state=None,\n            splitter='best')"
                    },
                    "execution_count": 23,
                    "metadata": {},
                    "output_type": "execute_result"
                }
            ],
            "source": "dtree.fit(X_trainset,y_trainset)"
        },
        {
            "cell_type": "markdown",
            "metadata": {},
            "source": "We will now make some predictions using the test data. Then, we will print out to compare the predicted value to the actual value. "
        },
        {
            "cell_type": "code",
            "execution_count": 24,
            "metadata": {},
            "outputs": [],
            "source": "ptree = dtree.predict(X_testset)"
        },
        {
            "cell_type": "code",
            "execution_count": 25,
            "metadata": {},
            "outputs": [
                {
                    "name": "stdout",
                    "output_type": "stream",
                    "text": "[1 1 1 1 1]\n[1 1 1 1 2]\n"
                }
            ],
            "source": "print (ptree[0:5])\nprint (y_testset[0:5])"
        },
        {
            "cell_type": "markdown",
            "metadata": {},
            "source": "We will now check the accuracy of the decision tree."
        },
        {
            "cell_type": "code",
            "execution_count": 26,
            "metadata": {},
            "outputs": [
                {
                    "name": "stdout",
                    "output_type": "stream",
                    "text": "The accuracy of the Decision Tree Model is:  0.6715097290128467\n"
                }
            ],
            "source": "print(\"The accuracy of the Decision Tree Model is: \", metrics.accuracy_score(y_testset, ptree))"
        },
        {
            "cell_type": "markdown",
            "metadata": {},
            "source": "We will now test using Support Vector Model (SVM)."
        },
        {
            "cell_type": "code",
            "execution_count": 27,
            "metadata": {},
            "outputs": [
                {
                    "data": {
                        "text/plain": "array([[1, 1, 1],\n       [2, 1, 0],\n       [1, 0, 1],\n       [0, 0, 1],\n       [2, 1, 1]])"
                    },
                    "execution_count": 27,
                    "metadata": {},
                    "output_type": "execute_result"
                }
            ],
            "source": "X_svm = X\n\nX_svm[0:5]"
        },
        {
            "cell_type": "code",
            "execution_count": 28,
            "metadata": {},
            "outputs": [
                {
                    "data": {
                        "text/plain": "array([2, 1, 1, 1, 2])"
                    },
                    "execution_count": 28,
                    "metadata": {},
                    "output_type": "execute_result"
                }
            ],
            "source": "y_svm = y\n\ny_svm[0:5]"
        },
        {
            "cell_type": "code",
            "execution_count": 29,
            "metadata": {},
            "outputs": [
                {
                    "name": "stdout",
                    "output_type": "stream",
                    "text": "(101037, 3)\n(101037,)\n(67359, 3)\n(67359,)\n"
                }
            ],
            "source": "X_train, X_test, y_train, y_test = train_test_split(X_svm, y_svm, test_size=0.4, random_state=4)\n\nprint(X_train.shape)\nprint(y_train.shape)\n\nprint(X_test.shape)\nprint(y_test.shape)\n\n"
        },
        {
            "cell_type": "code",
            "execution_count": 30,
            "metadata": {},
            "outputs": [
                {
                    "data": {
                        "text/plain": "SVC(C=1.0, cache_size=200, class_weight=None, coef0=0.0,\n  decision_function_shape='ovr', degree=3, gamma='auto_deprecated',\n  kernel='linear', max_iter=-1, probability=False, random_state=None,\n  shrinking=True, tol=0.001, verbose=False)"
                    },
                    "execution_count": 30,
                    "metadata": {},
                    "output_type": "execute_result"
                }
            ],
            "source": "clf = svm.SVC(kernel='linear')\nclf.fit(X_train, y_train)"
        },
        {
            "cell_type": "code",
            "execution_count": 31,
            "metadata": {},
            "outputs": [
                {
                    "data": {
                        "text/plain": "array([1, 1, 1, 1, 1, 1, 1, 1, 1, 1])"
                    },
                    "execution_count": 31,
                    "metadata": {},
                    "output_type": "execute_result"
                }
            ],
            "source": "yhat = clf.predict(X_test)\nyhat[0:10]"
        },
        {
            "cell_type": "code",
            "execution_count": 32,
            "metadata": {},
            "outputs": [
                {
                    "name": "stdout",
                    "output_type": "stream",
                    "text": "Avg F1-score: 0.5391\nJaccard score: 0.6712\n"
                },
                {
                    "name": "stderr",
                    "output_type": "stream",
                    "text": "/opt/conda/envs/Python36/lib/python3.6/site-packages/sklearn/metrics/classification.py:1143: UndefinedMetricWarning: F-score is ill-defined and being set to 0.0 in labels with no predicted samples.\n  'precision', 'predicted', average, warn_for)\n"
                }
            ],
            "source": "print(\"Avg F1-score: %.4f\" % f1_score(y_test, yhat, average='weighted'))\nprint(\"Jaccard score: %.4f\" % jaccard_similarity_score(y_test, yhat))"
        },
        {
            "cell_type": "markdown",
            "metadata": {},
            "source": "Let's take a look at the accuracy of the Support Vector Model."
        },
        {
            "cell_type": "code",
            "execution_count": 33,
            "metadata": {},
            "outputs": [],
            "source": "def plot_confusion_matrix(cm, classes,\n                         normalize=False,\n                         title='Confusion matrix',\n                         cmap=plt.cm.Blues):\n     \"\"\"\n     This function prints and plots the confusion matrix.\n     Normalization can be applied by setting `normalize=True`.\n     \"\"\"\n     if normalize:\n         cm = cm.astype('float') / cm.sum(axis=1)[:, np.newaxis]\n         print(\"Normalized confusion matrix\")\n     else:\n         print('Confusion matrix, without normalization')\n        \n     print(cm)\n \n     plt.imshow(cm, interpolation='nearest', cmap=cmap)\n     plt.title(title)\n     plt.colorbar()\n     tick_marks = np.arange(len(classes))\n     plt.xticks(tick_marks, classes, rotation=45)\n     plt.yticks(tick_marks, classes)\n        \n     fmt = '.2f' if normalize else 'd'\n     thresh = cm.max() / 2.\n     for i, j in itertools.product(range(cm.shape[0]), range(cm.shape[1])):\n         plt.text(j, i, format(cm[i, j], fmt),\n             horizontalalignment=\"center\",\n             color=\"white\" if cm[i, j] > thresh else \"black\")\n     plt.tight_layout()\n     plt.ylabel('True label')\n     plt.xlabel('Predicted label')"
        },
        {
            "cell_type": "code",
            "execution_count": 34,
            "metadata": {},
            "outputs": [
                {
                    "name": "stderr",
                    "output_type": "stream",
                    "text": "/opt/conda/envs/Python36/lib/python3.6/site-packages/sklearn/metrics/classification.py:1143: UndefinedMetricWarning: Precision and F-score are ill-defined and being set to 0.0 in labels with no predicted samples.\n  'precision', 'predicted', average, warn_for)\n/opt/conda/envs/Python36/lib/python3.6/site-packages/sklearn/metrics/classification.py:1143: UndefinedMetricWarning: Precision and F-score are ill-defined and being set to 0.0 in labels with no predicted samples.\n  'precision', 'predicted', average, warn_for)\n/opt/conda/envs/Python36/lib/python3.6/site-packages/sklearn/metrics/classification.py:1143: UndefinedMetricWarning: Precision and F-score are ill-defined and being set to 0.0 in labels with no predicted samples.\n  'precision', 'predicted', average, warn_for)\n"
                },
                {
                    "name": "stdout",
                    "output_type": "stream",
                    "text": "              precision    recall  f1-score   support\n\n           1       0.67      1.00      0.80     45210\n           2       0.00      0.00      0.00     22149\n\n   micro avg       0.67      0.67      0.67     67359\n   macro avg       0.34      0.50      0.40     67359\nweighted avg       0.45      0.67      0.54     67359\n\nConfusion matrix, without normalization\n[[45210     0]\n [22149     0]]\n"
                },
                {
                    "data": {
                        "image/png": "[encoded data removed]",
                        "text/plain": "<Figure size 432x288 with 2 Axes>"
                    },
                    "metadata": {
                        "needs_background": "light"
                    },
                    "output_type": "display_data"
                }
            ],
            "source": "# Compute confusion matrix\ncnf_matrix = confusion_matrix(y_test, yhat, labels=[1,2])\nnp.set_printoptions(precision=2)\nprint (classification_report(y_test, yhat))\n# Plot non-normalized confusion matrix\nplt.figure()\nplot_confusion_matrix(cnf_matrix, classes=['No injury (1)','Minor Injury (2)'],normalize= False,title='Confusion matrix')\n"
        },
        {
            "cell_type": "markdown",
            "metadata": {},
            "source": "Let's now look at Logistic Regression."
        },
        {
            "cell_type": "code",
            "execution_count": 35,
            "metadata": {},
            "outputs": [
                {
                    "name": "stderr",
                    "output_type": "stream",
                    "text": "/opt/conda/envs/Python36/lib/python3.6/site-packages/sklearn/utils/validation.py:595: DataConversionWarning: Data with input dtype int64 was converted to float64 by StandardScaler.\n  warnings.warn(msg, DataConversionWarning)\n/opt/conda/envs/Python36/lib/python3.6/site-packages/sklearn/utils/validation.py:595: DataConversionWarning: Data with input dtype int64 was converted to float64 by StandardScaler.\n  warnings.warn(msg, DataConversionWarning)\n"
                },
                {
                    "data": {
                        "text/plain": "array([[ 0.57,  1.6 ,  0.69],\n       [ 1.82,  1.6 , -1.45],\n       [ 0.57, -0.62,  0.69],\n       [-0.69, -0.62,  0.69],\n       [ 1.82,  1.6 ,  0.69]])"
                    },
                    "execution_count": 35,
                    "metadata": {},
                    "output_type": "execute_result"
                }
            ],
            "source": "ss = preprocessing.StandardScaler()\nX_lr = X\nX_lr = ss.fit(X_lr).transform(X_lr)\nX_lr[0:5]"
        },
        {
            "cell_type": "code",
            "execution_count": 36,
            "metadata": {},
            "outputs": [
                {
                    "name": "stdout",
                    "output_type": "stream",
                    "text": "Logistic Regression Train set: (101037, 3) (101037,)\nLogistic Regression Test set: (67359, 3) (67359,)\n"
                }
            ],
            "source": "y_lr = y_svm\n\nX_lr_train, X_lr_test, y_lr_train, y_lr_test = train_test_split( X_lr, y_lr, test_size=0.4, random_state=4)\nprint ('Logistic Regression Train set:', X_lr_train.shape, y_lr_train.shape)\nprint ('Logistic Regression Test set:', X_lr_test.shape, y_lr_test.shape)"
        },
        {
            "cell_type": "code",
            "execution_count": 37,
            "metadata": {},
            "outputs": [
                {
                    "data": {
                        "text/plain": "LogisticRegression(C=0.01, class_weight=None, dual=False, fit_intercept=True,\n          intercept_scaling=1, max_iter=100, multi_class='warn',\n          n_jobs=None, penalty='l2', random_state=None, solver='liblinear',\n          tol=0.0001, verbose=0, warm_start=False)"
                    },
                    "execution_count": 37,
                    "metadata": {},
                    "output_type": "execute_result"
                }
            ],
            "source": "LR = LogisticRegression(C=0.01, solver='liblinear').fit(X_lr_train,y_lr_train)\nLR"
        },
        {
            "cell_type": "code",
            "execution_count": 38,
            "metadata": {},
            "outputs": [
                {
                    "data": {
                        "text/plain": "array([1, 1, 1, 1, 1, 1, 1, 1, 1, 1])"
                    },
                    "execution_count": 38,
                    "metadata": {},
                    "output_type": "execute_result"
                }
            ],
            "source": "yhat_lr = LR.predict(X_lr_test)\nyhat_lr[0:10]\n"
        },
        {
            "cell_type": "code",
            "execution_count": 39,
            "metadata": {},
            "outputs": [
                {
                    "data": {
                        "text/plain": "array([[0.7 , 0.3 ],\n       [0.66, 0.34],\n       [0.66, 0.34],\n       [0.65, 0.35],\n       [0.66, 0.34],\n       [0.65, 0.35],\n       [0.66, 0.34],\n       [0.7 , 0.3 ],\n       [0.65, 0.35],\n       [0.7 , 0.3 ]])"
                    },
                    "execution_count": 39,
                    "metadata": {},
                    "output_type": "execute_result"
                }
            ],
            "source": "yhat_lr_prob = LR.predict_proba(X_lr_test)\nyhat_lr_prob[0:10]\n"
        },
        {
            "cell_type": "code",
            "execution_count": 40,
            "metadata": {},
            "outputs": [
                {
                    "name": "stderr",
                    "output_type": "stream",
                    "text": "/opt/conda/envs/Python36/lib/python3.6/site-packages/sklearn/metrics/classification.py:1143: UndefinedMetricWarning: Precision and F-score are ill-defined and being set to 0.0 in labels with no predicted samples.\n  'precision', 'predicted', average, warn_for)\n/opt/conda/envs/Python36/lib/python3.6/site-packages/sklearn/metrics/classification.py:1143: UndefinedMetricWarning: Precision and F-score are ill-defined and being set to 0.0 in labels with no predicted samples.\n  'precision', 'predicted', average, warn_for)\n/opt/conda/envs/Python36/lib/python3.6/site-packages/sklearn/metrics/classification.py:1143: UndefinedMetricWarning: Precision and F-score are ill-defined and being set to 0.0 in labels with no predicted samples.\n  'precision', 'predicted', average, warn_for)\n"
                },
                {
                    "name": "stdout",
                    "output_type": "stream",
                    "text": "              precision    recall  f1-score   support\n\n           1       0.67      1.00      0.80     45210\n           2       0.00      0.00      0.00     22149\n\n   micro avg       0.67      0.67      0.67     67359\n   macro avg       0.34      0.50      0.40     67359\nweighted avg       0.45      0.67      0.54     67359\n\nConfusion matrix, without normalization\n[[45210     0]\n [22149     0]]\n"
                },
                {
                    "data": {
                        "image/png": "[encoded data removed]",
                        "text/plain": "<Figure size 432x288 with 2 Axes>"
                    },
                    "metadata": {
                        "needs_background": "light"
                    },
                    "output_type": "display_data"
                }
            ],
            "source": "cnf_lr_matrix = confusion_matrix(y_lr_test, yhat_lr, labels=[1,2])\nnp.set_printoptions(precision=2)\nprint (classification_report(y_lr_test, yhat_lr))\n# Plot non-normalized confusion matrix\nplt.figure()\nplot_confusion_matrix(cnf_lr_matrix, classes=['No injury (1)','Minor Injury (2)'],normalize= False,title='Confusion matrix')"
        },
        {
            "cell_type": "markdown",
            "metadata": {},
            "source": "Let's attempt K-Nearest Neighbor (KNN) as another method to predicting severity.\n"
        },
        {
            "cell_type": "code",
            "execution_count": 41,
            "metadata": {},
            "outputs": [
                {
                    "name": "stderr",
                    "output_type": "stream",
                    "text": "/opt/conda/envs/Python36/lib/python3.6/site-packages/sklearn/utils/validation.py:595: DataConversionWarning: Data with input dtype int64 was converted to float64 by StandardScaler.\n  warnings.warn(msg, DataConversionWarning)\n"
                },
                {
                    "data": {
                        "text/plain": "array([[ 0.57,  1.6 ,  0.69],\n       [ 1.82,  1.6 , -1.45],\n       [ 0.57, -0.62,  0.69],\n       [-0.69, -0.62,  0.69],\n       [ 1.82,  1.6 ,  0.69]])"
                    },
                    "execution_count": 41,
                    "metadata": {},
                    "output_type": "execute_result"
                }
            ],
            "source": "X_knn = X\n\nX_knn = preprocessing.StandardScaler().fit(X_knn).transform(X_knn.astype(float))\nX_knn[0:5]\n"
        },
        {
            "cell_type": "code",
            "execution_count": 42,
            "metadata": {},
            "outputs": [
                {
                    "data": {
                        "text/plain": "array([2, 1, 1, 1, 2, 1, 1, 2, 1, 2])"
                    },
                    "execution_count": 42,
                    "metadata": {},
                    "output_type": "execute_result"
                }
            ],
            "source": "y_knn = y\ny_knn[0:10]"
        },
        {
            "cell_type": "code",
            "execution_count": 43,
            "metadata": {},
            "outputs": [
                {
                    "name": "stdout",
                    "output_type": "stream",
                    "text": "KNN Train set: (101037, 3) (101037,)\nKNN Test set: (67359, 3) (67359,)\n"
                }
            ],
            "source": "X_knn_train, X_knn_test, y_knn_train, y_knn_test = train_test_split( X_knn, y_knn, test_size=0.4, random_state=4)\nprint ('KNN Train set:', X_knn_train.shape, y_knn_train.shape)\nprint ('KNN Test set:', X_knn_test.shape, y_knn_test.shape)\n"
        },
        {
            "cell_type": "code",
            "execution_count": 44,
            "metadata": {},
            "outputs": [],
            "source": "from sklearn.neighbors import KNeighborsClassifier"
        },
        {
            "cell_type": "markdown",
            "metadata": {},
            "source": "We'll test different numbers of nearest neighbors to examine the accuracy of the model and we'll plot the model accuracy."
        },
        {
            "cell_type": "code",
            "execution_count": 45,
            "metadata": {},
            "outputs": [
                {
                    "data": {
                        "text/plain": "array([0.57, 0.64, 0.63, 0.64, 0.62, 0.62, 0.62, 0.64, 0.63])"
                    },
                    "execution_count": 45,
                    "metadata": {},
                    "output_type": "execute_result"
                }
            ],
            "source": "Ks = 10\nmean_acc = np.zeros((Ks-1))\nstd_acc = np.zeros((Ks-1))\nConfustionMx = [];\nfor n in range(1,Ks):\n\n #Train Model and Predict\n neigh = KNeighborsClassifier(n_neighbors = n).fit(X_knn_train,y_knn_train)\n yhat_knn=neigh.predict(X_knn_test)\n mean_acc[n-1] = metrics.accuracy_score(y_knn_test, yhat_knn)\n\n std_acc[n-1]=np.std(yhat==y_test)/np.sqrt(yhat_knn.shape[0])\nmean_acc"
        },
        {
            "cell_type": "code",
            "execution_count": 46,
            "metadata": {},
            "outputs": [
                {
                    "data": {
                        "image/png": "[encoded data removed]",
                        "text/plain": "<Figure size 432x288 with 1 Axes>"
                    },
                    "metadata": {
                        "needs_background": "light"
                    },
                    "output_type": "display_data"
                }
            ],
            "source": "plt.plot(range(1,Ks),mean_acc,'g')\nplt.fill_between(range(1,Ks),mean_acc - 1 * std_acc,mean_acc + 1 * std_acc, alpha=0.10)\nplt.legend(('Accuracy ', '+/- 3xstd'))\nplt.ylabel('Accuracy ')\nplt.xlabel('Number of Neighbors (K)')\nplt.tight_layout()\nplt.show()"
        },
        {
            "cell_type": "markdown",
            "metadata": {},
            "source": "We learn that where K = 2, 4 or 8, we have the highest accuracy at 64% of the time."
        },
        {
            "cell_type": "code",
            "execution_count": 47,
            "metadata": {},
            "outputs": [
                {
                    "data": {
                        "text/plain": "KNeighborsClassifier(algorithm='auto', leaf_size=30, metric='minkowski',\n           metric_params=None, n_jobs=None, n_neighbors=4, p=2,\n           weights='uniform')"
                    },
                    "execution_count": 47,
                    "metadata": {},
                    "output_type": "execute_result"
                }
            ],
            "source": "k = 4\n#Train Model and Predict\nkNN_model = KNeighborsClassifier(n_neighbors=k).fit(X_knn_train,y_knn_train)\nkNN_model"
        },
        {
            "cell_type": "markdown",
            "metadata": {},
            "source": "## Data Results\n\nLet's take a look at different metrics for each model to see which reports the highest accuracy."
        },
        {
            "cell_type": "code",
            "execution_count": 50,
            "metadata": {},
            "outputs": [
                {
                    "name": "stdout",
                    "output_type": "stream",
                    "text": "KNN Jaccard index: 0.6396\nKNN F1-score: 0.5714\n"
                }
            ],
            "source": "knn_yhat = kNN_model.predict(X_knn_test)\nprint(\"KNN Jaccard index: %.4f\" % jaccard_similarity_score(y_knn_test, knn_yhat))\nprint(\"KNN F1-score: %.4f\" % f1_score(y_knn_test, knn_yhat, average='weighted') )\n"
        },
        {
            "cell_type": "code",
            "execution_count": 51,
            "metadata": {},
            "outputs": [
                {
                    "name": "stdout",
                    "output_type": "stream",
                    "text": "DT Jaccard index: 0.6715\nDT F1-score: 0.5395\n"
                },
                {
                    "name": "stderr",
                    "output_type": "stream",
                    "text": "/opt/conda/envs/Python36/lib/python3.6/site-packages/sklearn/metrics/classification.py:1143: UndefinedMetricWarning: F-score is ill-defined and being set to 0.0 in labels with no predicted samples.\n  'precision', 'predicted', average, warn_for)\n"
                }
            ],
            "source": "DT_yhat = dtree.predict(X_testset)\nprint(\"DT Jaccard index: %.4f\" % jaccard_similarity_score(y_testset, DT_yhat))\nprint(\"DT F1-score: %.4f\" % f1_score(y_testset, DT_yhat, average='weighted') )\n"
        },
        {
            "cell_type": "code",
            "execution_count": 52,
            "metadata": {},
            "outputs": [
                {
                    "name": "stdout",
                    "output_type": "stream",
                    "text": "SVM Jaccard index: 0.6712\nSVM F1-score: 0.5391\n"
                },
                {
                    "name": "stderr",
                    "output_type": "stream",
                    "text": "/opt/conda/envs/Python36/lib/python3.6/site-packages/sklearn/metrics/classification.py:1143: UndefinedMetricWarning: F-score is ill-defined and being set to 0.0 in labels with no predicted samples.\n  'precision', 'predicted', average, warn_for)\n"
                }
            ],
            "source": "SVM_yhat =clf.predict(X_test)\nprint(\"SVM Jaccard index: %.4f\" % jaccard_similarity_score(y_test, SVM_yhat))\nprint(\"SVM F1-score: %.4f\" % f1_score(y_test, SVM_yhat, average='weighted') )\n"
        },
        {
            "cell_type": "code",
            "execution_count": 53,
            "metadata": {},
            "outputs": [
                {
                    "name": "stdout",
                    "output_type": "stream",
                    "text": "LR Jaccard index: 0.6712\nLR F1-score: 0.5391\nLR LogLoss: 0.6328\n"
                },
                {
                    "name": "stderr",
                    "output_type": "stream",
                    "text": "/opt/conda/envs/Python36/lib/python3.6/site-packages/sklearn/metrics/classification.py:1143: UndefinedMetricWarning: F-score is ill-defined and being set to 0.0 in labels with no predicted samples.\n  'precision', 'predicted', average, warn_for)\n"
                }
            ],
            "source": "LR_yhat = LR.predict(X_lr_test)\nLR_yhat_prob = LR.predict_proba(X_lr_test)\nprint(\"LR Jaccard index: %.4f\" % jaccard_similarity_score(y_lr_test, LR_yhat))\nprint(\"LR F1-score: %.4f\" % f1_score(y_lr_test, LR_yhat, average='weighted') )\nprint(\"LR LogLoss: %.4f\" % log_loss(y_lr_test, LR_yhat_prob))"
        },
        {
            "cell_type": "markdown",
            "metadata": {},
            "source": "The results of accuracy are as follows:\n\n\n|Algorithm | Jaccard | F1-score | LogLoss |\n|----------|---------|----------|---------|\n|KNN | 0.6396 | 0.5714 | N/A |\n|Decision Tree | 0.6715 | 0.5395 | N/A |\n|SVM | 0.6712 | 0.5391 | N/A |\n|Logistic Regression | 0.6712 | 0.5391 | 0.6328 |"
        },
        {
            "cell_type": "markdown",
            "metadata": {},
            "source": "## Further Discussion of Results"
        },
        {
            "cell_type": "markdown",
            "metadata": {},
            "source": "Based on our modeling, we were only able to predict the severity of car accidents accurately up to 67% of the time using either Decision Tree, Support Vector Model, or Logistic Regression. Based on the analysis we completed, the current weather, road conditions, and lighting conditions don't successfully determine the severity of the car accidents. However, we could consider for future analysis a look at other data fields provided, such as location or speeding, to determine if severity can be predicted using that."
        },
        {
            "cell_type": "markdown",
            "metadata": {},
            "source": "## Conclusion\n\nRegardless of the outcome of the findings here, 100% of recorded car accidents in the city of Seattle resulted in either no injuries (1) or very minor injuries (2). No accidents with substantial injuries or fatalities were recorded. \n\nWe also know based on the initial data prior to processing, that more accidents occur during clear weather conditions than in conditions where precipitation is falling. In fact, almost 64.6% of all car accidents in the 16-year period of data occurred during clear weather compared to 19.4% of all accidents occurred during rainy weather. The likelihood of getting into an accident on a clear day in Seattle is 3.3 times greater than that on a rainy day.\n\nSo, with that said and for any time you get behind the wheel, whether it is a sunny day or a rainy day, always drive safe, obey the speed limit, and keep your distance between other vehicles and pedestrians to minimize your risk of getting into a car accident. \n\nThank you for your time."
        },
        {
            "cell_type": "markdown",
            "metadata": {},
            "source": "# Sources\n\n1. \"Seattle's Rainy Reputation Is Well-Deserved\", The Weather Channel, October 14, 2016; https://weather.com/science/weather-explainers/news/seattle-rainy-reputation"
        }
    ],
    "metadata": {
        "kernelspec": {
            "display_name": "Python 3.6",
            "language": "python",
            "name": "python3"
        },
        "language_info": {
            "codemirror_mode": {
                "name": "ipython",
                "version": 3
            },
            "file_extension": ".py",
            "mimetype": "text/x-python",
            "name": "python",
            "nbconvert_exporter": "python",
            "pygments_lexer": "ipython3",
            "version": "3.6.9"
        }
    },
    "nbformat": 4,
    "nbformat_minor": 1
}